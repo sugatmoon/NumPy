{
 "cells": [
  {
   "cell_type": "code",
   "execution_count": 1,
   "id": "5472e413",
   "metadata": {},
   "outputs": [],
   "source": [
    "import numpy as np"
   ]
  },
  {
   "cell_type": "code",
   "execution_count": 2,
   "id": "123cb347",
   "metadata": {},
   "outputs": [],
   "source": [
    "n1 = np.array([5,469,889,7,98,456,163,214,67,3,1,])"
   ]
  },
  {
   "cell_type": "markdown",
   "id": "406e6232",
   "metadata": {},
   "source": [
    "# Addition"
   ]
  },
  {
   "cell_type": "code",
   "execution_count": 3,
   "id": "f8cdd671",
   "metadata": {},
   "outputs": [
    {
     "data": {
      "text/plain": [
       "array([ 57, 521, 941,  59, 150, 508, 215, 266, 119,  55,  53])"
      ]
     },
     "execution_count": 3,
     "metadata": {},
     "output_type": "execute_result"
    }
   ],
   "source": [
    "n1 +52"
   ]
  },
  {
   "cell_type": "markdown",
   "id": "d616053c",
   "metadata": {},
   "source": [
    "# Substaction"
   ]
  },
  {
   "cell_type": "code",
   "execution_count": 4,
   "id": "e09759df",
   "metadata": {},
   "outputs": [
    {
     "data": {
      "text/plain": [
       "array([  3, 467, 887,   5,  96, 454, 161, 212,  65,   1,  -1])"
      ]
     },
     "execution_count": 4,
     "metadata": {},
     "output_type": "execute_result"
    }
   ],
   "source": [
    "n1 -2"
   ]
  },
  {
   "cell_type": "markdown",
   "id": "53d444e3",
   "metadata": {},
   "source": [
    "# Division"
   ]
  },
  {
   "cell_type": "code",
   "execution_count": 5,
   "id": "b324ffa4",
   "metadata": {},
   "outputs": [
    {
     "data": {
      "text/plain": [
       "array([  2.5, 234.5, 444.5,   3.5,  49. , 228. ,  81.5, 107. ,  33.5,\n",
       "         1.5,   0.5])"
      ]
     },
     "execution_count": 5,
     "metadata": {},
     "output_type": "execute_result"
    }
   ],
   "source": [
    "n1 /2"
   ]
  },
  {
   "cell_type": "markdown",
   "id": "e032e9a0",
   "metadata": {},
   "source": [
    "# multiplecation"
   ]
  },
  {
   "cell_type": "code",
   "execution_count": 7,
   "id": "1f2b9333",
   "metadata": {},
   "outputs": [
    {
     "data": {
      "text/plain": [
       "array([  10,  938, 1778,   14,  196,  912,  326,  428,  134,    6,    2])"
      ]
     },
     "execution_count": 7,
     "metadata": {},
     "output_type": "execute_result"
    }
   ],
   "source": [
    "n1 * 2"
   ]
  }
 ],
 "metadata": {
  "kernelspec": {
   "display_name": "Python 3 (ipykernel)",
   "language": "python",
   "name": "python3"
  },
  "language_info": {
   "codemirror_mode": {
    "name": "ipython",
    "version": 3
   },
   "file_extension": ".py",
   "mimetype": "text/x-python",
   "name": "python",
   "nbconvert_exporter": "python",
   "pygments_lexer": "ipython3",
   "version": "3.11.2"
  }
 },
 "nbformat": 4,
 "nbformat_minor": 5
}
