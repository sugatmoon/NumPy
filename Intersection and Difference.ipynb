{
 "cells": [
  {
   "cell_type": "code",
   "execution_count": 1,
   "id": "1a62f9ee",
   "metadata": {},
   "outputs": [],
   "source": [
    "import numpy as np"
   ]
  },
  {
   "cell_type": "code",
   "execution_count": 2,
   "id": "57f4b373",
   "metadata": {},
   "outputs": [],
   "source": [
    "n1 = np.array([11,2,5,4,8,7,9,6,5,6,4])"
   ]
  },
  {
   "cell_type": "code",
   "execution_count": 15,
   "id": "a4edeeed",
   "metadata": {},
   "outputs": [],
   "source": [
    "n2 = np.array([1,2,6,54,6,6,14,46,44])"
   ]
  },
  {
   "cell_type": "code",
   "execution_count": 16,
   "id": "1f58a2ed",
   "metadata": {},
   "outputs": [
    {
     "data": {
      "text/plain": [
       "array([ 1,  2,  6, 14, 44, 46, 54])"
      ]
     },
     "execution_count": 16,
     "metadata": {},
     "output_type": "execute_result"
    }
   ],
   "source": [
    "np.intersect1d(n1,n2)"
   ]
  },
  {
   "cell_type": "code",
   "execution_count": 17,
   "id": "627a3edb",
   "metadata": {},
   "outputs": [
    {
     "data": {
      "text/plain": [
       "array([], dtype=int32)"
      ]
     },
     "execution_count": 17,
     "metadata": {},
     "output_type": "execute_result"
    }
   ],
   "source": [
    "np.setdiff1d(n1,n2)"
   ]
  }
 ],
 "metadata": {
  "kernelspec": {
   "display_name": "Python 3 (ipykernel)",
   "language": "python",
   "name": "python3"
  },
  "language_info": {
   "codemirror_mode": {
    "name": "ipython",
    "version": 3
   },
   "file_extension": ".py",
   "mimetype": "text/x-python",
   "name": "python",
   "nbconvert_exporter": "python",
   "pygments_lexer": "ipython3",
   "version": "3.11.2"
  }
 },
 "nbformat": 4,
 "nbformat_minor": 5
}
