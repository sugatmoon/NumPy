{
 "cells": [
  {
   "cell_type": "code",
   "execution_count": null,
   "id": "24d460e0",
   "metadata": {},
   "outputs": [],
   "source": [
    "import numpy as np"
   ]
  },
  {
   "cell_type": "code",
   "execution_count": 3,
   "id": "76b4bc05",
   "metadata": {},
   "outputs": [],
   "source": [
    "n1 = np.array([1,3,5465,487,5623,454,64,8,487])"
   ]
  },
  {
   "cell_type": "code",
   "execution_count": 4,
   "id": "86b22a7c",
   "metadata": {},
   "outputs": [],
   "source": [
    "n2 = np.array([12,2,3,6,4,564,8,8,6,44])"
   ]
  },
  {
   "cell_type": "markdown",
   "id": "bd796ae8",
   "metadata": {},
   "source": [
    "# Mean"
   ]
  },
  {
   "cell_type": "code",
   "execution_count": 6,
   "id": "ac0663f3",
   "metadata": {},
   "outputs": [
    {
     "data": {
      "text/plain": [
       "1399.111111111111"
      ]
     },
     "execution_count": 6,
     "metadata": {},
     "output_type": "execute_result"
    }
   ],
   "source": [
    "np.mean(n1)"
   ]
  },
  {
   "cell_type": "markdown",
   "id": "192552c3",
   "metadata": {},
   "source": [
    "# Median"
   ]
  },
  {
   "cell_type": "code",
   "execution_count": 7,
   "id": "805c68aa",
   "metadata": {},
   "outputs": [
    {
     "data": {
      "text/plain": [
       "7.0"
      ]
     },
     "execution_count": 7,
     "metadata": {},
     "output_type": "execute_result"
    }
   ],
   "source": [
    "np.median(n2)"
   ]
  },
  {
   "cell_type": "markdown",
   "id": "e25fd675",
   "metadata": {},
   "source": [
    "# Standard Deveation"
   ]
  },
  {
   "cell_type": "code",
   "execution_count": 16,
   "id": "be06eddb",
   "metadata": {},
   "outputs": [
    {
     "data": {
      "text/plain": [
       "166.50528520140134"
      ]
     },
     "execution_count": 16,
     "metadata": {},
     "output_type": "execute_result"
    }
   ],
   "source": [
    "np.std(n2)"
   ]
  }
 ],
 "metadata": {
  "kernelspec": {
   "display_name": "Python 3 (ipykernel)",
   "language": "python",
   "name": "python3"
  },
  "language_info": {
   "codemirror_mode": {
    "name": "ipython",
    "version": 3
   },
   "file_extension": ".py",
   "mimetype": "text/x-python",
   "name": "python",
   "nbconvert_exporter": "python",
   "pygments_lexer": "ipython3",
   "version": "3.11.2"
  }
 },
 "nbformat": 4,
 "nbformat_minor": 5
}
