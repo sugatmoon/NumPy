{
 "cells": [
  {
   "cell_type": "code",
   "execution_count": 1,
   "id": "fd507674",
   "metadata": {},
   "outputs": [
    {
     "name": "stdout",
     "output_type": "stream",
     "text": [
      "Enter the name: Sugatmoon\n",
      "Sugatmoon\n"
     ]
    }
   ],
   "source": [
    "num = input('Eddnter the name: ')\n"
   ]
  },
  {
   "cell_type": "code",
   "execution_count": 2,
   "id": "709dbe68",
   "metadata": {
    "scrolled": true
   },
   "outputs": [
    {
     "name": "stdout",
     "output_type": "stream",
     "text": [
      "55\n"
     ]
    }
   ],
   "source": [
    "print(55)"
   ]
  },
  {
   "cell_type": "code",
   "execution_count": 72,
   "id": "c771b9b2",
   "metadata": {},
   "outputs": [
    {
     "data": {
      "text/plain": [
       "array([  2,   1,   5,   4,   9,   7, 898,   7])"
      ]
     },
     "execution_count": 72,
     "metadata": {},
     "output_type": "execute_result"
    }
   ],
   "source": [
    "import numpy as np\n",
    "n1 = np.array([2,1,5,4,9,7,898,7])\n",
    "n1"
   ]
  },
  {
   "cell_type": "code",
   "execution_count": 73,
   "id": "ff703284",
   "metadata": {},
   "outputs": [
    {
     "data": {
      "text/plain": [
       "numpy.ndarray"
      ]
     },
     "execution_count": 73,
     "metadata": {},
     "output_type": "execute_result"
    }
   ],
   "source": [
    "type(n1)"
   ]
  },
  {
   "cell_type": "code",
   "execution_count": 77,
   "id": "f369c5da",
   "metadata": {},
   "outputs": [
    {
     "data": {
      "text/plain": [
       "(8,)"
      ]
     },
     "execution_count": 77,
     "metadata": {},
     "output_type": "execute_result"
    }
   ],
   "source": [
    "n1.shape"
   ]
  },
  {
   "cell_type": "code",
   "execution_count": 82,
   "id": "0c1ef709",
   "metadata": {},
   "outputs": [
    {
     "ename": "ValueError",
     "evalue": "setting an array element with a sequence. The requested array has an inhomogeneous shape after 1 dimensions. The detected shape was (2,) + inhomogeneous part.",
     "output_type": "error",
     "traceback": [
      "\u001b[1;31m---------------------------------------------------------------------------\u001b[0m",
      "\u001b[1;31mValueError\u001b[0m                                Traceback (most recent call last)",
      "Cell \u001b[1;32mIn[82], line 2\u001b[0m\n\u001b[0;32m      1\u001b[0m \u001b[38;5;28;01mimport\u001b[39;00m \u001b[38;5;21;01mnumpy\u001b[39;00m \u001b[38;5;28;01mas\u001b[39;00m \u001b[38;5;21;01mnp1\u001b[39;00m\n\u001b[1;32m----> 2\u001b[0m n2 \u001b[38;5;241m=\u001b[39m \u001b[43mnp1\u001b[49m\u001b[38;5;241;43m.\u001b[39;49m\u001b[43marray\u001b[49m\u001b[43m(\u001b[49m\u001b[43m[\u001b[49m\u001b[43m[\u001b[49m\u001b[38;5;241;43m12\u001b[39;49m\u001b[43m,\u001b[49m\u001b[38;5;241;43m3\u001b[39;49m\u001b[43m,\u001b[49m\u001b[38;5;241;43m7\u001b[39;49m\u001b[43m,\u001b[49m\u001b[38;5;241;43m8\u001b[39;49m\u001b[43m,\u001b[49m\u001b[38;5;241;43m4\u001b[39;49m\u001b[43m,\u001b[49m\u001b[43m]\u001b[49m\u001b[43m,\u001b[49m\u001b[43m[\u001b[49m\u001b[38;5;241;43m5\u001b[39;49m\u001b[43m,\u001b[49m\u001b[38;5;241;43m9\u001b[39;49m\u001b[43m]\u001b[49m\u001b[43m]\u001b[49m\u001b[43m)\u001b[49m\n\u001b[0;32m      3\u001b[0m n2\n",
      "\u001b[1;31mValueError\u001b[0m: setting an array element with a sequence. The requested array has an inhomogeneous shape after 1 dimensions. The detected shape was (2,) + inhomogeneous part."
     ]
    }
   ],
   "source": [
    "import numpy as np1\n",
    "n2 = np1.array([[12,3,7,8,4,],[5,9]])\n",
    "n2"
   ]
  },
  {
   "cell_type": "code",
   "execution_count": 78,
   "id": "fc570728",
   "metadata": {},
   "outputs": [
    {
     "data": {
      "text/plain": [
       "array([  2,   1,   5,   4,   9,   7, 898,   7])"
      ]
     },
     "execution_count": 78,
     "metadata": {},
     "output_type": "execute_result"
    }
   ],
   "source": [
    "n1"
   ]
  },
  {
   "cell_type": "code",
   "execution_count": 86,
   "id": "766cacd2",
   "metadata": {},
   "outputs": [
    {
     "data": {
      "text/plain": [
       "array([[10, 11, 12, 13, 14, 15],\n",
       "       [ 1,  2,  3,  4,  5,  6]])"
      ]
     },
     "execution_count": 86,
     "metadata": {},
     "output_type": "execute_result"
    }
   ],
   "source": [
    "import numpy as np\n",
    "n1 = np.array([[10,11,12,13,14,15],[1,2,3,4,5,6]])\n",
    "n1"
   ]
  },
  {
   "cell_type": "code",
   "execution_count": 87,
   "id": "aedb2c20",
   "metadata": {},
   "outputs": [
    {
     "data": {
      "text/plain": [
       "(2, 6)"
      ]
     },
     "execution_count": 87,
     "metadata": {},
     "output_type": "execute_result"
    }
   ],
   "source": [
    "n1.shape\n"
   ]
  },
  {
   "cell_type": "code",
   "execution_count": 88,
   "id": "542d8fad",
   "metadata": {},
   "outputs": [
    {
     "data": {
      "text/plain": [
       "numpy.ndarray"
      ]
     },
     "execution_count": 88,
     "metadata": {},
     "output_type": "execute_result"
    }
   ],
   "source": [
    "type(n1)"
   ]
  },
  {
   "cell_type": "code",
   "execution_count": 114,
   "id": "ee5a02b0",
   "metadata": {},
   "outputs": [
    {
     "data": {
      "text/plain": [
       "array([[10, 11, 12, 13, 14, 15],\n",
       "       [ 1,  2,  3,  4,  5,  6]])"
      ]
     },
     "execution_count": 114,
     "metadata": {},
     "output_type": "execute_result"
    }
   ],
   "source": [
    "n1[0:]"
   ]
  },
  {
   "cell_type": "code",
   "execution_count": 124,
   "id": "3bba9473",
   "metadata": {},
   "outputs": [
    {
     "data": {
      "text/plain": [
       "array([[0., 0., 0., 0., 0., 0.],\n",
       "       [0., 0., 0., 0., 0., 0.],\n",
       "       [0., 0., 0., 0., 0., 0.],\n",
       "       [0., 0., 0., 0., 0., 0.],\n",
       "       [0., 0., 0., 0., 0., 0.],\n",
       "       [0., 0., 0., 0., 0., 0.]])"
      ]
     },
     "execution_count": 124,
     "metadata": {},
     "output_type": "execute_result"
    }
   ],
   "source": [
    "n2 = np.zeros((6,6))\n",
    "n2"
   ]
  },
  {
   "cell_type": "code",
   "execution_count": null,
   "id": "8b8969f9",
   "metadata": {},
   "outputs": [],
   "source": [
    "dd"
   ]
  },
  {
   "cell_type": "code",
   "execution_count": null,
   "id": "5023e63f",
   "metadata": {},
   "outputs": [],
   "source": []
  },
  {
   "cell_type": "code",
   "execution_count": 127,
   "id": "59b59211",
   "metadata": {},
   "outputs": [
    {
     "data": {
      "text/plain": [
       "array([[2, 2, 2, 2, 2, 2, 2, 2, 2, 2, 2, 2, 2, 2, 2, 2, 2, 2, 2, 2, 2, 2,\n",
       "        2, 2, 2, 2, 2, 2, 2, 2, 2, 2, 2, 2, 2],\n",
       "       [2, 2, 2, 2, 2, 2, 2, 2, 2, 2, 2, 2, 2, 2, 2, 2, 2, 2, 2, 2, 2, 2,\n",
       "        2, 2, 2, 2, 2, 2, 2, 2, 2, 2, 2, 2, 2],\n",
       "       [2, 2, 2, 2, 2, 2, 2, 2, 2, 2, 2, 2, 2, 2, 2, 2, 2, 2, 2, 2, 2, 2,\n",
       "        2, 2, 2, 2, 2, 2, 2, 2, 2, 2, 2, 2, 2],\n",
       "       [2, 2, 2, 2, 2, 2, 2, 2, 2, 2, 2, 2, 2, 2, 2, 2, 2, 2, 2, 2, 2, 2,\n",
       "        2, 2, 2, 2, 2, 2, 2, 2, 2, 2, 2, 2, 2],\n",
       "       [2, 2, 2, 2, 2, 2, 2, 2, 2, 2, 2, 2, 2, 2, 2, 2, 2, 2, 2, 2, 2, 2,\n",
       "        2, 2, 2, 2, 2, 2, 2, 2, 2, 2, 2, 2, 2],\n",
       "       [2, 2, 2, 2, 2, 2, 2, 2, 2, 2, 2, 2, 2, 2, 2, 2, 2, 2, 2, 2, 2, 2,\n",
       "        2, 2, 2, 2, 2, 2, 2, 2, 2, 2, 2, 2, 2],\n",
       "       [2, 2, 2, 2, 2, 2, 2, 2, 2, 2, 2, 2, 2, 2, 2, 2, 2, 2, 2, 2, 2, 2,\n",
       "        2, 2, 2, 2, 2, 2, 2, 2, 2, 2, 2, 2, 2],\n",
       "       [2, 2, 2, 2, 2, 2, 2, 2, 2, 2, 2, 2, 2, 2, 2, 2, 2, 2, 2, 2, 2, 2,\n",
       "        2, 2, 2, 2, 2, 2, 2, 2, 2, 2, 2, 2, 2],\n",
       "       [2, 2, 2, 2, 2, 2, 2, 2, 2, 2, 2, 2, 2, 2, 2, 2, 2, 2, 2, 2, 2, 2,\n",
       "        2, 2, 2, 2, 2, 2, 2, 2, 2, 2, 2, 2, 2],\n",
       "       [2, 2, 2, 2, 2, 2, 2, 2, 2, 2, 2, 2, 2, 2, 2, 2, 2, 2, 2, 2, 2, 2,\n",
       "        2, 2, 2, 2, 2, 2, 2, 2, 2, 2, 2, 2, 2],\n",
       "       [2, 2, 2, 2, 2, 2, 2, 2, 2, 2, 2, 2, 2, 2, 2, 2, 2, 2, 2, 2, 2, 2,\n",
       "        2, 2, 2, 2, 2, 2, 2, 2, 2, 2, 2, 2, 2],\n",
       "       [2, 2, 2, 2, 2, 2, 2, 2, 2, 2, 2, 2, 2, 2, 2, 2, 2, 2, 2, 2, 2, 2,\n",
       "        2, 2, 2, 2, 2, 2, 2, 2, 2, 2, 2, 2, 2]])"
      ]
     },
     "execution_count": 127,
     "metadata": {},
     "output_type": "execute_result"
    }
   ],
   "source": [
    "n3 = np.full((12,35),2)\n",
    "n3"
   ]
  },
  {
   "cell_type": "code",
   "execution_count": 133,
   "id": "6985286c",
   "metadata": {},
   "outputs": [
    {
     "data": {
      "text/plain": [
       "array([ 10,  15,  20,  25,  30,  35,  40,  45,  50,  55,  60,  65,  70,\n",
       "        75,  80,  85,  90,  95, 100, 105, 110, 115, 120, 125, 130, 135,\n",
       "       140, 145, 150, 155, 160, 165, 170, 175, 180, 185, 190, 195, 200,\n",
       "       205, 210, 215, 220, 225, 230, 235, 240, 245, 250, 255, 260, 265,\n",
       "       270, 275, 280, 285, 290, 295, 300, 305, 310, 315, 320, 325, 330,\n",
       "       335, 340, 345, 350, 355, 360, 365, 370, 375, 380, 385, 390, 395,\n",
       "       400, 405, 410, 415, 420, 425, 430, 435, 440, 445, 450, 455, 460,\n",
       "       465, 470, 475, 480, 485, 490, 495, 500, 505, 510, 515, 520, 525,\n",
       "       530, 535, 540, 545, 550, 555, 560, 565, 570, 575, 580, 585, 590,\n",
       "       595, 600, 605, 610, 615, 620, 625, 630, 635, 640, 645, 650, 655,\n",
       "       660, 665, 670, 675, 680, 685, 690, 695, 700, 705, 710, 715, 720,\n",
       "       725, 730, 735, 740, 745, 750, 755, 760, 765, 770, 775, 780, 785,\n",
       "       790, 795, 800, 805, 810, 815, 820, 825, 830, 835, 840, 845, 850,\n",
       "       855, 860, 865, 870, 875, 880, 885, 890, 895, 900, 905, 910, 915,\n",
       "       920, 925, 930, 935, 940, 945, 950, 955, 960, 965, 970, 975, 980,\n",
       "       985, 990, 995])"
      ]
     },
     "execution_count": 133,
     "metadata": {},
     "output_type": "execute_result"
    }
   ],
   "source": [
    "n4 = np.arange(10,1000,5)\n",
    "n4"
   ]
  },
  {
   "cell_type": "code",
   "execution_count": null,
   "id": "0dda9eae",
   "metadata": {},
   "outputs": [],
   "source": [
    "dd"
   ]
  },
  {
   "cell_type": "code",
   "execution_count": 171,
   "id": "708ba40d",
   "metadata": {},
   "outputs": [
    {
     "data": {
      "text/plain": [
       "array([641,  40, 113, 180, 848, 387, 930, 157, 679, 633, 359, 331, 376,\n",
       "       298, 102, 608, 503, 976, 433,  85, 950, 257, 135, 894, 726, 911,\n",
       "       894, 521, 709,  85, 733, 267, 619, 774, 879, 421, 700, 131, 236,\n",
       "       485,  53, 372, 607, 719,  16, 687, 639, 858, 824, 373, 667, 369,\n",
       "       860, 188, 295, 492, 806, 809, 787,  13, 606,  89, 760, 309, 843,\n",
       "       214, 304, 350, 250, 355, 155, 588, 738, 113, 579, 475,  37, 792,\n",
       "       768, 948, 491, 802, 475, 198, 620, 806, 620, 308, 925, 483, 666,\n",
       "       374, 468, 498, 565, 941, 418, 326, 415,  32, 431, 418, 167, 612,\n",
       "       863,  54, 272, 853, 231, 287, 819,  62, 107, 644, 326, 978, 512,\n",
       "       977, 997, 601, 985, 130, 628, 840, 221, 647, 340, 781, 117, 981,\n",
       "       964, 689, 174, 762, 454, 204, 372, 288, 376, 128, 151, 417, 478,\n",
       "       194,  74, 914, 942, 920,  98, 694, 798, 583, 838, 900, 239, 933,\n",
       "       672, 775, 688, 812, 347, 121, 487, 166, 429, 416, 540, 396, 630,\n",
       "       576,  70, 300, 965, 148, 476, 358, 646, 477, 378, 900,  10, 807,\n",
       "       251, 961, 163, 229, 355, 597, 700, 576, 146, 733, 782, 787, 474,\n",
       "       622, 721, 263,  55, 237, 526, 390,  75, 475, 811, 489, 454, 775,\n",
       "       202, 794, 406, 682,  12, 554,  53, 878, 614,  31,  63, 769, 872,\n",
       "       125,  90, 231, 860, 830, 131, 753, 909, 409, 381, 636, 775, 607,\n",
       "       286, 240, 671, 309, 122,  53, 943, 527,  88, 241, 690,  23, 120,\n",
       "        54, 210, 367, 594, 552, 624, 240, 462, 333,  26, 302, 972, 777,\n",
       "       775, 779, 202, 594,  73, 443, 246, 705, 934, 619, 917, 875, 735,\n",
       "       526, 182, 254, 659,  26, 598, 441, 967, 212, 325, 322, 992, 253,\n",
       "       861,  53, 153, 673, 336, 987, 605, 400, 613,  25, 578, 866, 740,\n",
       "       873, 901, 144, 826, 297, 401, 713, 115, 933, 329,  59, 682,  44,\n",
       "       921, 157, 418,  78, 544, 212, 322, 583, 761, 237,  83,  30, 762,\n",
       "       525, 461, 593, 282, 311, 813,  32,  64, 241, 965, 106, 151,  48,\n",
       "        86, 555, 906, 175, 357, 487, 679, 695,  52, 996,  34, 683, 979,\n",
       "       858, 871, 410, 650, 449, 969, 237,  19, 913, 280, 219, 286, 827,\n",
       "       838, 256, 824, 332, 704, 827, 797, 598, 108, 186, 405, 465, 503,\n",
       "       374, 794, 551, 632,  47, 197,  14, 795, 571, 906, 615, 778, 611,\n",
       "       632, 369, 664, 539, 103, 388, 713, 905, 739, 689, 935, 444, 333,\n",
       "       619, 438, 699, 560, 502, 776,  70, 783, 808, 930, 927, 726, 418,\n",
       "       539,  47,  99, 170, 704, 113, 943, 203, 195, 334, 753, 764, 286,\n",
       "       167, 829, 828, 231, 412, 279, 816, 870, 472, 167, 997, 967, 602,\n",
       "       220, 531, 396, 343, 208, 646, 507, 945, 233, 496, 440, 748, 235,\n",
       "        46, 856,  10, 244, 129, 490, 462, 575, 213, 812, 832, 811, 771,\n",
       "       441,  54, 645, 836, 613, 126, 671, 346, 705, 614,  23, 812, 491,\n",
       "       886, 918, 413, 675, 790, 707, 452, 836, 522, 866, 954, 206, 334,\n",
       "       850, 830, 855, 517,  32, 317])"
      ]
     },
     "execution_count": 171,
     "metadata": {},
     "output_type": "execute_result"
    }
   ],
   "source": [
    "n5 = np.random.randint(10,1000,500)\n",
    "n5"
   ]
  },
  {
   "cell_type": "code",
   "execution_count": 173,
   "id": "759c1403",
   "metadata": {},
   "outputs": [
    {
     "data": {
      "text/plain": [
       "array([[10, 11, 12, 13, 14, 15],\n",
       "       [ 1,  2,  3,  4,  5,  6]])"
      ]
     },
     "execution_count": 173,
     "metadata": {},
     "output_type": "execute_result"
    }
   ],
   "source": [
    "n1"
   ]
  },
  {
   "cell_type": "code",
   "execution_count": 175,
   "id": "9f934e03",
   "metadata": {},
   "outputs": [
    {
     "data": {
      "text/plain": [
       "(2, 6)"
      ]
     },
     "execution_count": 175,
     "metadata": {},
     "output_type": "execute_result"
    }
   ],
   "source": [
    "n1.shape"
   ]
  },
  {
   "cell_type": "code",
   "execution_count": 178,
   "id": "543e79c3",
   "metadata": {},
   "outputs": [
    {
     "data": {
      "text/plain": [
       "array([[10, 11],\n",
       "       [12, 13],\n",
       "       [14, 15],\n",
       "       [ 1,  2],\n",
       "       [ 3,  4],\n",
       "       [ 5,  6]])"
      ]
     },
     "execution_count": 178,
     "metadata": {},
     "output_type": "execute_result"
    }
   ],
   "source": [
    "n1.shape =(6,2)\n",
    "n1"
   ]
  },
  {
   "cell_type": "code",
   "execution_count": 180,
   "id": "24c4ecd8",
   "metadata": {},
   "outputs": [
    {
     "data": {
      "text/plain": [
       "array([[10, 11],\n",
       "       [12, 13],\n",
       "       [14, 15],\n",
       "       [ 1,  2],\n",
       "       [ 3,  4],\n",
       "       [ 5,  6]])"
      ]
     },
     "execution_count": 180,
     "metadata": {},
     "output_type": "execute_result"
    }
   ],
   "source": [
    "n1"
   ]
  },
  {
   "cell_type": "code",
   "execution_count": 181,
   "id": "6279ea52",
   "metadata": {},
   "outputs": [
    {
     "data": {
      "text/plain": [
       "numpy.ndarray"
      ]
     },
     "execution_count": 181,
     "metadata": {},
     "output_type": "execute_result"
    }
   ],
   "source": [
    "type(n1)"
   ]
  }
 ],
 "metadata": {
  "kernelspec": {
   "display_name": "Python 3 (ipykernel)",
   "language": "python",
   "name": "python3"
  },
  "language_info": {
   "codemirror_mode": {
    "name": "ipython",
    "version": 3
   },
   "file_extension": ".py",
   "mimetype": "text/x-python",
   "name": "python",
   "nbconvert_exporter": "python",
   "pygments_lexer": "ipython3",
   "version": "3.11.2"
  }
 },
 "nbformat": 4,
 "nbformat_minor": 5
}
