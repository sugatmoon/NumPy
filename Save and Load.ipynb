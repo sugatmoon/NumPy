{
 "cells": [
  {
   "cell_type": "code",
   "execution_count": 23,
   "id": "c8a1cdc1",
   "metadata": {},
   "outputs": [],
   "source": [
    "import numpy as np"
   ]
  },
  {
   "cell_type": "code",
   "execution_count": 30,
   "id": "eff75b8a",
   "metadata": {},
   "outputs": [],
   "source": [
    "n1 = np.array([1,23,5,4,6,45,5,8,8,964,4])"
   ]
  },
  {
   "cell_type": "code",
   "execution_count": 32,
   "id": "9488906e",
   "metadata": {},
   "outputs": [],
   "source": [
    "np.save('This is final array file',n1)"
   ]
  },
  {
   "cell_type": "code",
   "execution_count": 33,
   "id": "45b19652",
   "metadata": {},
   "outputs": [],
   "source": [
    "n2 = np.load('This is final array file.npy')"
   ]
  },
  {
   "cell_type": "code",
   "execution_count": 34,
   "id": "cbb4578d",
   "metadata": {},
   "outputs": [
    {
     "data": {
      "text/plain": [
       "array([  1,  23,   5,   4,   6,  45,   5,   8,   8, 964,   4])"
      ]
     },
     "execution_count": 34,
     "metadata": {},
     "output_type": "execute_result"
    }
   ],
   "source": [
    "n2"
   ]
  }
 ],
 "metadata": {
  "kernelspec": {
   "display_name": "Python 3 (ipykernel)",
   "language": "python",
   "name": "python3"
  },
  "language_info": {
   "codemirror_mode": {
    "name": "ipython",
    "version": 3
   },
   "file_extension": ".py",
   "mimetype": "text/x-python",
   "name": "python",
   "nbconvert_exporter": "python",
   "pygments_lexer": "ipython3",
   "version": "3.11.2"
  }
 },
 "nbformat": 4,
 "nbformat_minor": 5
}
