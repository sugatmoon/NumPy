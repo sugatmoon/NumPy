{
 "cells": [
  {
   "cell_type": "code",
   "execution_count": 6,
   "id": "9dd0b934",
   "metadata": {},
   "outputs": [],
   "source": [
    "import numpy as np"
   ]
  },
  {
   "cell_type": "code",
   "execution_count": 7,
   "id": "5dcc1c0a",
   "metadata": {},
   "outputs": [],
   "source": [
    "n1 = np.array([1,2,3,4,5,6,7,8,9])"
   ]
  },
  {
   "cell_type": "code",
   "execution_count": 8,
   "id": "76a0d3dc",
   "metadata": {},
   "outputs": [],
   "source": [
    "n2 = np.array([9,8,7,6,5,4,3,2,1])"
   ]
  },
  {
   "cell_type": "markdown",
   "id": "039a2cfc",
   "metadata": {},
   "source": [
    "# Vertical stack"
   ]
  },
  {
   "cell_type": "code",
   "execution_count": 10,
   "id": "4d18b4e8",
   "metadata": {},
   "outputs": [
    {
     "data": {
      "text/plain": [
       "array([[1, 2, 3, 4, 5, 6, 7, 8, 9],\n",
       "       [9, 8, 7, 6, 5, 4, 3, 2, 1]])"
      ]
     },
     "execution_count": 10,
     "metadata": {},
     "output_type": "execute_result"
    }
   ],
   "source": [
    "np.vstack((n1,n2))"
   ]
  },
  {
   "cell_type": "markdown",
   "id": "b9e864cf",
   "metadata": {},
   "source": [
    "# Horizontal stack"
   ]
  },
  {
   "cell_type": "code",
   "execution_count": 12,
   "id": "bd55a762",
   "metadata": {},
   "outputs": [
    {
     "data": {
      "text/plain": [
       "array([1, 2, 3, 4, 5, 6, 7, 8, 9, 9, 8, 7, 6, 5, 4, 3, 2, 1])"
      ]
     },
     "execution_count": 12,
     "metadata": {},
     "output_type": "execute_result"
    }
   ],
   "source": [
    "np.hstack((n1,n2))"
   ]
  },
  {
   "cell_type": "markdown",
   "id": "e5430fa8",
   "metadata": {},
   "source": [
    "# Column stack"
   ]
  },
  {
   "cell_type": "code",
   "execution_count": 14,
   "id": "33aa7ca5",
   "metadata": {},
   "outputs": [
    {
     "data": {
      "text/plain": [
       "array([[1, 9],\n",
       "       [2, 8],\n",
       "       [3, 7],\n",
       "       [4, 6],\n",
       "       [5, 5],\n",
       "       [6, 4],\n",
       "       [7, 3],\n",
       "       [8, 2],\n",
       "       [9, 1]])"
      ]
     },
     "execution_count": 14,
     "metadata": {},
     "output_type": "execute_result"
    }
   ],
   "source": [
    "np.column_stack((n1,n2))"
   ]
  }
 ],
 "metadata": {
  "kernelspec": {
   "display_name": "Python 3 (ipykernel)",
   "language": "python",
   "name": "python3"
  },
  "language_info": {
   "codemirror_mode": {
    "name": "ipython",
    "version": 3
   },
   "file_extension": ".py",
   "mimetype": "text/x-python",
   "name": "python",
   "nbconvert_exporter": "python",
   "pygments_lexer": "ipython3",
   "version": "3.11.2"
  }
 },
 "nbformat": 4,
 "nbformat_minor": 5
}
