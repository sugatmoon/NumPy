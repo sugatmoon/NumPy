{
 "cells": [
  {
   "cell_type": "code",
   "execution_count": 1,
   "id": "ffd9dfd2",
   "metadata": {},
   "outputs": [],
   "source": [
    "import numpy as np"
   ]
  },
  {
   "cell_type": "code",
   "execution_count": 2,
   "id": "98eecadf",
   "metadata": {},
   "outputs": [],
   "source": [
    "n1 = np.array([5,469,889,7,98,456,163,214,67,3,1,])"
   ]
  },
  {
   "cell_type": "markdown",
   "id": "188d9bb2",
   "metadata": {},
   "source": [
    "# Addition"
   ]
  },
  {
   "cell_type": "code",
   "execution_count": 3,
   "id": "1f29ff74",
   "metadata": {},
   "outputs": [
    {
     "data": {
      "text/plain": [
       "array([ 57, 521, 941,  59, 150, 508, 215, 266, 119,  55,  53])"
      ]
     },
     "execution_count": 3,
     "metadata": {},
     "output_type": "execute_result"
    }
   ],
   "source": [
    "n1 +52"
   ]
  },
  {
   "cell_type": "markdown",
   "id": "38466380",
   "metadata": {},
   "source": [
    "# Substaction"
   ]
  },
  {
   "cell_type": "code",
   "execution_count": 4,
   "id": "b647193d",
   "metadata": {},
   "outputs": [
    {
     "data": {
      "text/plain": [
       "array([  3, 467, 887,   5,  96, 454, 161, 212,  65,   1,  -1])"
      ]
     },
     "execution_count": 4,
     "metadata": {},
     "output_type": "execute_result"
    }
   ],
   "source": [
    "n1 -2"
   ]
  },
  {
   "cell_type": "markdown",
   "id": "28ddb070",
   "metadata": {},
   "source": [
    "# Division"
   ]
  },
  {
   "cell_type": "code",
   "execution_count": 5,
   "id": "24e8ffcd",
   "metadata": {},
   "outputs": [
    {
     "data": {
      "text/plain": [
       "array([  2.5, 234.5, 444.5,   3.5,  49. , 228. ,  81.5, 107. ,  33.5,\n",
       "         1.5,   0.5])"
      ]
     },
     "execution_count": 5,
     "metadata": {},
     "output_type": "execute_result"
    }
   ],
   "source": [
    "n1 /2"
   ]
  },
  {
   "cell_type": "markdown",
   "id": "4f31c4e5",
   "metadata": {},
   "source": [
    "# multiplecation"
   ]
  },
  {
   "cell_type": "code",
   "execution_count": null,
   "id": "72fe182e",
   "metadata": {},
   "outputs": [],
   "source": [
    "n1 * 2ds"
   ]
  }
 ],
 "metadata": {
  "kernelspec": {
   "display_name": "Python 3 (ipykernel)",
   "language": "python",
   "name": "python3"
  },
  "language_info": {
   "codemirror_mode": {
    "name": "ipython",
    "version": 3
   },
   "file_extension": ".py",
   "mimetype": "text/x-python",
   "name": "python",
   "nbconvert_exporter": "python",
   "pygments_lexer": "ipython3",
   "version": "3.11.2"
  }
 },
 "nbformat": 4,
 "nbformat_minor": 5
}
